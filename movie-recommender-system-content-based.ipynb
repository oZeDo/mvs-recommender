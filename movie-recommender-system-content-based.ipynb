{
 "cells": [
  {
   "cell_type": "markdown",
   "metadata": {
    "_cell_guid": "b1076dfc-b9ad-4769-8c92-a6c4dae69d19",
    "_uuid": "8f2839f25d086af736a60e9eeb907d3b93b6e0e5"
   },
   "source": [
    "First I cleaned **\"IMDB data from 2006 to 2016\"**  and added some movies to this data set (some movies from Al Pachino, which was not any in this data set!) and I saved it in a new data set as \"IMDBMovieData.csv\". Here I imported necessary packages to read this data set as *pandas* Dataframe."
   ]
  },
  {
   "cell_type": "code",
   "execution_count": 11,
   "metadata": {
    "_cell_guid": "79c7e3d0-c299-4dcb-8224-4455121ee9b0",
    "_kg_hide-output": true,
    "_uuid": "d629ff2d2480ee46fbb7e2d37f6b5fab8052498a"
   },
   "outputs": [],
   "source": [
    "import numpy as np\n",
    "import pandas as pd\n",
    "#import matplotlib.pyplot as plt\n",
    "import csv\n",
    "from sklearn import preprocessing\n",
    "import warnings\n",
    "warnings.filterwarnings(\"ignore\")\n",
    "trainset = pd.read_csv(\"IMDBMovieData.csv\", encoding='latin-1')"
   ]
  },
  {
   "cell_type": "markdown",
   "metadata": {
    "_uuid": "01c47a6d9b34a4ce2ab3fd09d77b5d7fe0bbd4f3"
   },
   "source": [
    "Then I **removed some columns** : 'Title', 'ID', 'Votes', 'Year', 'Revenue','Metascore', 'Rating','Description', 'Runtime' because I did not use them in this level of recommendation."
   ]
  },
  {
   "cell_type": "code",
   "execution_count": 12,
   "metadata": {
    "_kg_hide-output": true,
    "_uuid": "d6859e873c2e6a877cc5c99a9f438fcf5f42a51e"
   },
   "outputs": [],
   "source": [
    "X = trainset.drop(['Title', 'ID', 'Votes', 'Year', 'Revenue','Metascore', 'Rating','Description', 'Runtime'], axis=1)"
   ]
  },
  {
   "cell_type": "markdown",
   "metadata": {
    "_uuid": "5c97811dab8ff0eef6f2e1e89278dd00a18e3633"
   },
   "source": [
    "\n",
    "In this level of prediction, my program gives recommendations by **Genre , Actors** and **Director** so I got dummies from these tree columns:"
   ]
  },
  {
   "cell_type": "code",
   "execution_count": 13,
   "metadata": {
    "_kg_hide-output": true,
    "_uuid": "7a0148ad85ec195c6db1a59b6bc9a09a4aad71e1"
   },
   "outputs": [],
   "source": [
    "features = ['Genre','Actors','Director']\n",
    "for f in features:\n",
    "    X_dummy = X[f].str.get_dummies(',').add_prefix(f + '.')\n",
    "    X = X.drop([f], axis = 1)\n",
    "    X = pd.concat((X, X_dummy), axis = 1)"
   ]
  },
  {
   "cell_type": "markdown",
   "metadata": {
    "_uuid": "a5f0c83548d3e76274ce29311e15f86175e5790b"
   },
   "source": [
    "Here is an **example** of **one movie vector** after concat!!!: As you can see, this movie is in action, adventure, fantasy genre. And it has some actors and director which are not showable in this scale of output."
   ]
  },
  {
   "cell_type": "code",
   "execution_count": 14,
   "metadata": {
    "_uuid": "70077fcf1eabfe26e029b78b5d0245f229e62ac4",
    "scrolled": false
   },
   "outputs": [
    {
     "name": "stdout",
     "output_type": "stream",
     "text": [
      "Genre.Action                    1\n",
      "Genre.Adventure                 1\n",
      "Genre.Animation                 0\n",
      "Genre.Biography                 0\n",
      "Genre.Comedy                    0\n",
      "Genre.Crime                     0\n",
      "Genre.Drama                     0\n",
      "Genre.Family                    0\n",
      "Genre.Fantasy                   1\n",
      "Genre.History                   0\n",
      "Genre.Horror                    0\n",
      "Genre.Music                     0\n",
      "Genre.Musical                   0\n",
      "Genre.Mystery                   0\n",
      "Genre.Romance                   0\n",
      "Genre.Sci-Fi                    0\n",
      "Genre.Sport                     0\n",
      "Genre.Thriller                  0\n",
      "Genre.War                       0\n",
      "Genre.Western                   0\n",
      "Actors. 50 Cent                 0\n",
      "Actors. A.C. Peterson           0\n",
      "Actors. AJ Michalka             0\n",
      "Actors. Aamir Khan              0\n",
      "Actors. Aaron Burns             0\n",
      "Actors. Aaron Eckhart           0\n",
      "Actors. Aaron Paul              0\n",
      "Actors. Aaron Taylor-Johnson    0\n",
      "Actors. Aaron Yoo               0\n",
      "Actors. Aasif Mandvi            0\n",
      "                               ..\n",
      "Director.Tom Gormican           0\n",
      "Director.Tom Hooper             0\n",
      "Director.Tom McCarthy           0\n",
      "Director.Tom McGrath            0\n",
      "Director.Tom Six                0\n",
      "Director.Tom Tykwer             0\n",
      "Director.Tomas Alfredson        0\n",
      "Director.Tony Gilroy            0\n",
      "Director.Tony Scott             0\n",
      "Director.Travis Knight          0\n",
      "Director.Tyler Shields          0\n",
      "Director.Wally Pfister          0\n",
      "Director.Walt Dohrn             0\n",
      "Director.Walter Hill            0\n",
      "Director.Warren Beatty          0\n",
      "Director.Werner Herzog          0\n",
      "Director.Wes Anderson           0\n",
      "Director.Wes Ball               0\n",
      "Director.Wes Craven             0\n",
      "Director.Whit Stillman          0\n",
      "Director.Will Gluck             0\n",
      "Director.Will Slocombe          0\n",
      "Director.William Brent Bell     0\n",
      "Director.William Oldroyd        0\n",
      "Director.Woody Allen            0\n",
      "Director.Xavier Dolan           0\n",
      "Director.Yimou Zhang            0\n",
      "Director.Yorgos Lanthimos       0\n",
      "Director.Zack Snyder            0\n",
      "Director.Zackary Adler          0\n",
      "Name: 5, Length: 3030, dtype: int64\n"
     ]
    }
   ],
   "source": [
    "import csv\n",
    "import pandas as pd\n",
    "trainset = pd.read_csv(\"IMDBMovieData.csv\", encoding='latin-1')\n",
    "X = trainset.drop(['Title', 'ID', 'Votes', 'Year', 'Revenue','Metascore', 'Rating','Description', 'Runtime'], axis=1)\n",
    "features = ['Genre','Actors','Director']\n",
    "for f in features:\n",
    "    X_dummy = X[f].str.get_dummies(',').add_prefix(f + '.')\n",
    "    X = X.drop([f], axis = 1)\n",
    "    X = pd.concat((X, X_dummy), axis = 1)\n",
    "print (X.loc[5])"
   ]
  },
  {
   "cell_type": "markdown",
   "metadata": {
    "_uuid": "55e22ad5a48e81b12c873b78d9f3b3257b940160"
   },
   "source": [
    "Then I wrote csv file from Genres, Actors and Directors name from X column (it's name is \"testing\") and then filled it by **giving vote** to each one *I like* or *I hate* by my measurement."
   ]
  },
  {
   "cell_type": "code",
   "execution_count": 15,
   "metadata": {
    "_kg_hide-output": true,
    "_uuid": "869abc236fbe39fcce685a5d758cefa3f6410687"
   },
   "outputs": [],
   "source": [
    "y = list(X.columns.values)\n",
    "with open('testing.csv', 'w', encoding=\"ISO-8859-1\") as test:\n",
    "       write = csv.writer(test, delimiter = \",\")\n",
    "       for i in range(3030):\n",
    "           write.writerow([y[i]])"
   ]
  },
  {
   "cell_type": "markdown",
   "metadata": {
    "_uuid": "3be8bb5f1182c68e1caa1bd8d5aabec4ff58c598"
   },
   "source": [
    "For example in the code bellow, you can run and see first 30 rows of my testing file with my tastes."
   ]
  },
  {
   "cell_type": "code",
   "execution_count": 16,
   "metadata": {
    "_uuid": "80b0b659855dd0220ac7c626eefe0afbf6c87c97"
   },
   "outputs": [
    {
     "data": {
      "text/html": [
       "<div>\n",
       "<style scoped>\n",
       "    .dataframe tbody tr th:only-of-type {\n",
       "        vertical-align: middle;\n",
       "    }\n",
       "\n",
       "    .dataframe tbody tr th {\n",
       "        vertical-align: top;\n",
       "    }\n",
       "\n",
       "    .dataframe thead th {\n",
       "        text-align: right;\n",
       "    }\n",
       "</style>\n",
       "<table border=\"1\" class=\"dataframe\">\n",
       "  <thead>\n",
       "    <tr style=\"text-align: right;\">\n",
       "      <th></th>\n",
       "      <th>Genre.Action</th>\n",
       "    </tr>\n",
       "  </thead>\n",
       "  <tbody>\n",
       "    <tr>\n",
       "      <th>0</th>\n",
       "      <td>Genre.Adventure</td>\n",
       "    </tr>\n",
       "    <tr>\n",
       "      <th>1</th>\n",
       "      <td>Genre.Animation</td>\n",
       "    </tr>\n",
       "    <tr>\n",
       "      <th>2</th>\n",
       "      <td>Genre.Biography</td>\n",
       "    </tr>\n",
       "    <tr>\n",
       "      <th>3</th>\n",
       "      <td>Genre.Comedy</td>\n",
       "    </tr>\n",
       "    <tr>\n",
       "      <th>4</th>\n",
       "      <td>Genre.Crime</td>\n",
       "    </tr>\n",
       "    <tr>\n",
       "      <th>5</th>\n",
       "      <td>Genre.Drama</td>\n",
       "    </tr>\n",
       "    <tr>\n",
       "      <th>6</th>\n",
       "      <td>Genre.Family</td>\n",
       "    </tr>\n",
       "    <tr>\n",
       "      <th>7</th>\n",
       "      <td>Genre.Fantasy</td>\n",
       "    </tr>\n",
       "    <tr>\n",
       "      <th>8</th>\n",
       "      <td>Genre.History</td>\n",
       "    </tr>\n",
       "    <tr>\n",
       "      <th>9</th>\n",
       "      <td>Genre.Horror</td>\n",
       "    </tr>\n",
       "    <tr>\n",
       "      <th>10</th>\n",
       "      <td>Genre.Music</td>\n",
       "    </tr>\n",
       "    <tr>\n",
       "      <th>11</th>\n",
       "      <td>Genre.Musical</td>\n",
       "    </tr>\n",
       "    <tr>\n",
       "      <th>12</th>\n",
       "      <td>Genre.Mystery</td>\n",
       "    </tr>\n",
       "    <tr>\n",
       "      <th>13</th>\n",
       "      <td>Genre.Romance</td>\n",
       "    </tr>\n",
       "    <tr>\n",
       "      <th>14</th>\n",
       "      <td>Genre.Sci-Fi</td>\n",
       "    </tr>\n",
       "    <tr>\n",
       "      <th>15</th>\n",
       "      <td>Genre.Sport</td>\n",
       "    </tr>\n",
       "    <tr>\n",
       "      <th>16</th>\n",
       "      <td>Genre.Thriller</td>\n",
       "    </tr>\n",
       "    <tr>\n",
       "      <th>17</th>\n",
       "      <td>Genre.War</td>\n",
       "    </tr>\n",
       "    <tr>\n",
       "      <th>18</th>\n",
       "      <td>Genre.Western</td>\n",
       "    </tr>\n",
       "    <tr>\n",
       "      <th>19</th>\n",
       "      <td>Actors. 50 Cent</td>\n",
       "    </tr>\n",
       "    <tr>\n",
       "      <th>20</th>\n",
       "      <td>Actors. A.C. Peterson</td>\n",
       "    </tr>\n",
       "    <tr>\n",
       "      <th>21</th>\n",
       "      <td>Actors. AJ Michalka</td>\n",
       "    </tr>\n",
       "    <tr>\n",
       "      <th>22</th>\n",
       "      <td>Actors. Aamir Khan</td>\n",
       "    </tr>\n",
       "    <tr>\n",
       "      <th>23</th>\n",
       "      <td>Actors. Aaron Burns</td>\n",
       "    </tr>\n",
       "    <tr>\n",
       "      <th>24</th>\n",
       "      <td>Actors. Aaron Eckhart</td>\n",
       "    </tr>\n",
       "    <tr>\n",
       "      <th>25</th>\n",
       "      <td>Actors. Aaron Paul</td>\n",
       "    </tr>\n",
       "    <tr>\n",
       "      <th>26</th>\n",
       "      <td>Actors. Aaron Taylor-Johnson</td>\n",
       "    </tr>\n",
       "    <tr>\n",
       "      <th>27</th>\n",
       "      <td>Actors. Aaron Yoo</td>\n",
       "    </tr>\n",
       "    <tr>\n",
       "      <th>28</th>\n",
       "      <td>Actors. Aasif Mandvi</td>\n",
       "    </tr>\n",
       "    <tr>\n",
       "      <th>29</th>\n",
       "      <td>Actors. Abbie Cornish</td>\n",
       "    </tr>\n",
       "  </tbody>\n",
       "</table>\n",
       "</div>"
      ],
      "text/plain": [
       "                    Genre.Action\n",
       "0                Genre.Adventure\n",
       "1                Genre.Animation\n",
       "2                Genre.Biography\n",
       "3                   Genre.Comedy\n",
       "4                    Genre.Crime\n",
       "5                    Genre.Drama\n",
       "6                   Genre.Family\n",
       "7                  Genre.Fantasy\n",
       "8                  Genre.History\n",
       "9                   Genre.Horror\n",
       "10                   Genre.Music\n",
       "11                 Genre.Musical\n",
       "12                 Genre.Mystery\n",
       "13                 Genre.Romance\n",
       "14                  Genre.Sci-Fi\n",
       "15                   Genre.Sport\n",
       "16                Genre.Thriller\n",
       "17                     Genre.War\n",
       "18                 Genre.Western\n",
       "19               Actors. 50 Cent\n",
       "20         Actors. A.C. Peterson\n",
       "21           Actors. AJ Michalka\n",
       "22            Actors. Aamir Khan\n",
       "23           Actors. Aaron Burns\n",
       "24         Actors. Aaron Eckhart\n",
       "25            Actors. Aaron Paul\n",
       "26  Actors. Aaron Taylor-Johnson\n",
       "27             Actors. Aaron Yoo\n",
       "28          Actors. Aasif Mandvi\n",
       "29         Actors. Abbie Cornish"
      ]
     },
     "execution_count": 16,
     "metadata": {},
     "output_type": "execute_result"
    }
   ],
   "source": [
    "import pandas as pd\n",
    "header = pd.read_csv(\"testing.csv\")\n",
    "header.head(30)"
   ]
  },
  {
   "cell_type": "markdown",
   "metadata": {
    "_uuid": "53959851c1c041476d5dd8314dbb20ad31351d08"
   },
   "source": [
    "Now for similarity measuring I used **Cosine similarity measure** to find out which movie is more similar to my interests, by using this formula: \n",
    "sim(x, y) = cos(rx, ry) =\n",
    "![image.png](attachment:image.png)\n",
    "\n",
    "But since the size of the movies are near, we can **pass up** *denominator *and just compute dot product of our interest (our vote to each actor, director and genre) to each movie vector which is filled with zero or one by existence or absence of each genre, actor and director. I kept these parameters in \"sim\" array.\n",
    "\n",
    "Then I defined another array named \"similar\" which was built by sorting first n indexes of 'sim' array with maximum parameter value.\n"
   ]
  },
  {
   "cell_type": "markdown",
   "metadata": {
    "_uuid": "ecae30850d60b3eeade1e826ee1d23b0f1b955c3"
   },
   "source": [
    "So till now, it is a **complete code** (without making \"testing\" file) which takes data in data frame then drops unnecessary columns then gets dummies from necessary columns and then it makes testing file including all genres, actors and directors for user to vote. Now I run this code with my intrest list (*testing*.csv) :"
   ]
  },
  {
   "cell_type": "code",
   "execution_count": 17,
   "metadata": {
    "_uuid": "f5bcfd2ba3bd9f90fb406c1eaac33b91c02389b7"
   },
   "outputs": [
    {
     "ename": "KeyError",
     "evalue": "\"['Content'] not found in axis\"",
     "output_type": "error",
     "traceback": [
      "\u001b[1;31m---------------------------------------------------------------------------\u001b[0m",
      "\u001b[1;31mKeyError\u001b[0m                                  Traceback (most recent call last)",
      "\u001b[1;32m<ipython-input-17-9cd743dafec1>\u001b[0m in \u001b[0;36m<module>\u001b[1;34m()\u001b[0m\n\u001b[0;32m     17\u001b[0m \u001b[1;33m\u001b[0m\u001b[0m\n\u001b[0;32m     18\u001b[0m \u001b[0mtest\u001b[0m \u001b[1;33m=\u001b[0m \u001b[0mpd\u001b[0m\u001b[1;33m.\u001b[0m\u001b[0mread_csv\u001b[0m\u001b[1;33m(\u001b[0m\u001b[1;34m\"testing.csv\"\u001b[0m\u001b[1;33m)\u001b[0m\u001b[1;33m\u001b[0m\u001b[0m\n\u001b[1;32m---> 19\u001b[1;33m \u001b[0mT\u001b[0m \u001b[1;33m=\u001b[0m \u001b[0mtest\u001b[0m\u001b[1;33m.\u001b[0m\u001b[0mdrop\u001b[0m\u001b[1;33m(\u001b[0m\u001b[1;33m[\u001b[0m\u001b[1;34m'Content'\u001b[0m\u001b[1;33m]\u001b[0m\u001b[1;33m,\u001b[0m \u001b[0maxis\u001b[0m\u001b[1;33m=\u001b[0m\u001b[1;36m1\u001b[0m\u001b[1;33m)\u001b[0m\u001b[1;33m\u001b[0m\u001b[0m\n\u001b[0m\u001b[0;32m     20\u001b[0m \u001b[0mT\u001b[0m \u001b[1;33m=\u001b[0m \u001b[0mT\u001b[0m\u001b[1;33m[\u001b[0m\u001b[1;34m'Vote'\u001b[0m\u001b[1;33m]\u001b[0m\u001b[1;33m.\u001b[0m\u001b[0mfillna\u001b[0m\u001b[1;33m(\u001b[0m\u001b[1;36m0\u001b[0m\u001b[1;33m)\u001b[0m\u001b[1;33m\u001b[0m\u001b[0m\n\u001b[0;32m     21\u001b[0m \u001b[0mvote\u001b[0m \u001b[1;33m=\u001b[0m \u001b[0mT\u001b[0m\u001b[1;33m.\u001b[0m\u001b[0mvalues\u001b[0m\u001b[1;33m\u001b[0m\u001b[0m\n",
      "\u001b[1;32mC:\\ProgramData\\Anaconda3\\lib\\site-packages\\pandas\\core\\frame.py\u001b[0m in \u001b[0;36mdrop\u001b[1;34m(self, labels, axis, index, columns, level, inplace, errors)\u001b[0m\n\u001b[0;32m   3695\u001b[0m                                            \u001b[0mindex\u001b[0m\u001b[1;33m=\u001b[0m\u001b[0mindex\u001b[0m\u001b[1;33m,\u001b[0m \u001b[0mcolumns\u001b[0m\u001b[1;33m=\u001b[0m\u001b[0mcolumns\u001b[0m\u001b[1;33m,\u001b[0m\u001b[1;33m\u001b[0m\u001b[0m\n\u001b[0;32m   3696\u001b[0m                                            \u001b[0mlevel\u001b[0m\u001b[1;33m=\u001b[0m\u001b[0mlevel\u001b[0m\u001b[1;33m,\u001b[0m \u001b[0minplace\u001b[0m\u001b[1;33m=\u001b[0m\u001b[0minplace\u001b[0m\u001b[1;33m,\u001b[0m\u001b[1;33m\u001b[0m\u001b[0m\n\u001b[1;32m-> 3697\u001b[1;33m                                            errors=errors)\n\u001b[0m\u001b[0;32m   3698\u001b[0m \u001b[1;33m\u001b[0m\u001b[0m\n\u001b[0;32m   3699\u001b[0m     @rewrite_axis_style_signature('mapper', [('copy', True),\n",
      "\u001b[1;32mC:\\ProgramData\\Anaconda3\\lib\\site-packages\\pandas\\core\\generic.py\u001b[0m in \u001b[0;36mdrop\u001b[1;34m(self, labels, axis, index, columns, level, inplace, errors)\u001b[0m\n\u001b[0;32m   3109\u001b[0m         \u001b[1;32mfor\u001b[0m \u001b[0maxis\u001b[0m\u001b[1;33m,\u001b[0m \u001b[0mlabels\u001b[0m \u001b[1;32min\u001b[0m \u001b[0maxes\u001b[0m\u001b[1;33m.\u001b[0m\u001b[0mitems\u001b[0m\u001b[1;33m(\u001b[0m\u001b[1;33m)\u001b[0m\u001b[1;33m:\u001b[0m\u001b[1;33m\u001b[0m\u001b[0m\n\u001b[0;32m   3110\u001b[0m             \u001b[1;32mif\u001b[0m \u001b[0mlabels\u001b[0m \u001b[1;32mis\u001b[0m \u001b[1;32mnot\u001b[0m \u001b[1;32mNone\u001b[0m\u001b[1;33m:\u001b[0m\u001b[1;33m\u001b[0m\u001b[0m\n\u001b[1;32m-> 3111\u001b[1;33m                 \u001b[0mobj\u001b[0m \u001b[1;33m=\u001b[0m \u001b[0mobj\u001b[0m\u001b[1;33m.\u001b[0m\u001b[0m_drop_axis\u001b[0m\u001b[1;33m(\u001b[0m\u001b[0mlabels\u001b[0m\u001b[1;33m,\u001b[0m \u001b[0maxis\u001b[0m\u001b[1;33m,\u001b[0m \u001b[0mlevel\u001b[0m\u001b[1;33m=\u001b[0m\u001b[0mlevel\u001b[0m\u001b[1;33m,\u001b[0m \u001b[0merrors\u001b[0m\u001b[1;33m=\u001b[0m\u001b[0merrors\u001b[0m\u001b[1;33m)\u001b[0m\u001b[1;33m\u001b[0m\u001b[0m\n\u001b[0m\u001b[0;32m   3112\u001b[0m \u001b[1;33m\u001b[0m\u001b[0m\n\u001b[0;32m   3113\u001b[0m         \u001b[1;32mif\u001b[0m \u001b[0minplace\u001b[0m\u001b[1;33m:\u001b[0m\u001b[1;33m\u001b[0m\u001b[0m\n",
      "\u001b[1;32mC:\\ProgramData\\Anaconda3\\lib\\site-packages\\pandas\\core\\generic.py\u001b[0m in \u001b[0;36m_drop_axis\u001b[1;34m(self, labels, axis, level, errors)\u001b[0m\n\u001b[0;32m   3141\u001b[0m                 \u001b[0mnew_axis\u001b[0m \u001b[1;33m=\u001b[0m \u001b[0maxis\u001b[0m\u001b[1;33m.\u001b[0m\u001b[0mdrop\u001b[0m\u001b[1;33m(\u001b[0m\u001b[0mlabels\u001b[0m\u001b[1;33m,\u001b[0m \u001b[0mlevel\u001b[0m\u001b[1;33m=\u001b[0m\u001b[0mlevel\u001b[0m\u001b[1;33m,\u001b[0m \u001b[0merrors\u001b[0m\u001b[1;33m=\u001b[0m\u001b[0merrors\u001b[0m\u001b[1;33m)\u001b[0m\u001b[1;33m\u001b[0m\u001b[0m\n\u001b[0;32m   3142\u001b[0m             \u001b[1;32melse\u001b[0m\u001b[1;33m:\u001b[0m\u001b[1;33m\u001b[0m\u001b[0m\n\u001b[1;32m-> 3143\u001b[1;33m                 \u001b[0mnew_axis\u001b[0m \u001b[1;33m=\u001b[0m \u001b[0maxis\u001b[0m\u001b[1;33m.\u001b[0m\u001b[0mdrop\u001b[0m\u001b[1;33m(\u001b[0m\u001b[0mlabels\u001b[0m\u001b[1;33m,\u001b[0m \u001b[0merrors\u001b[0m\u001b[1;33m=\u001b[0m\u001b[0merrors\u001b[0m\u001b[1;33m)\u001b[0m\u001b[1;33m\u001b[0m\u001b[0m\n\u001b[0m\u001b[0;32m   3144\u001b[0m             \u001b[0mresult\u001b[0m \u001b[1;33m=\u001b[0m \u001b[0mself\u001b[0m\u001b[1;33m.\u001b[0m\u001b[0mreindex\u001b[0m\u001b[1;33m(\u001b[0m\u001b[1;33m**\u001b[0m\u001b[1;33m{\u001b[0m\u001b[0maxis_name\u001b[0m\u001b[1;33m:\u001b[0m \u001b[0mnew_axis\u001b[0m\u001b[1;33m}\u001b[0m\u001b[1;33m)\u001b[0m\u001b[1;33m\u001b[0m\u001b[0m\n\u001b[0;32m   3145\u001b[0m \u001b[1;33m\u001b[0m\u001b[0m\n",
      "\u001b[1;32mC:\\ProgramData\\Anaconda3\\lib\\site-packages\\pandas\\core\\indexes\\base.py\u001b[0m in \u001b[0;36mdrop\u001b[1;34m(self, labels, errors)\u001b[0m\n\u001b[0;32m   4402\u001b[0m             \u001b[1;32mif\u001b[0m \u001b[0merrors\u001b[0m \u001b[1;33m!=\u001b[0m \u001b[1;34m'ignore'\u001b[0m\u001b[1;33m:\u001b[0m\u001b[1;33m\u001b[0m\u001b[0m\n\u001b[0;32m   4403\u001b[0m                 raise KeyError(\n\u001b[1;32m-> 4404\u001b[1;33m                     '{} not found in axis'.format(labels[mask]))\n\u001b[0m\u001b[0;32m   4405\u001b[0m             \u001b[0mindexer\u001b[0m \u001b[1;33m=\u001b[0m \u001b[0mindexer\u001b[0m\u001b[1;33m[\u001b[0m\u001b[1;33m~\u001b[0m\u001b[0mmask\u001b[0m\u001b[1;33m]\u001b[0m\u001b[1;33m\u001b[0m\u001b[0m\n\u001b[0;32m   4406\u001b[0m         \u001b[1;32mreturn\u001b[0m \u001b[0mself\u001b[0m\u001b[1;33m.\u001b[0m\u001b[0mdelete\u001b[0m\u001b[1;33m(\u001b[0m\u001b[0mindexer\u001b[0m\u001b[1;33m)\u001b[0m\u001b[1;33m\u001b[0m\u001b[0m\n",
      "\u001b[1;31mKeyError\u001b[0m: \"['Content'] not found in axis\""
     ]
    }
   ],
   "source": [
    "import numpy as np\n",
    "import pandas as pd\n",
    "import csv\n",
    "from sklearn import preprocessing\n",
    "import warnings\n",
    "warnings.filterwarnings(\"ignore\")\n",
    "\n",
    "trainset = pd.read_csv(\"IMDBMovieData.csv\", encoding='latin-1')\n",
    "X = trainset.drop(['Title', 'ID', 'Votes', 'Year', 'Revenue','Metascore', 'Rating','Description', 'Runtime'], axis=1)\n",
    "#trainset.Revenue = X.Revenue.fillna(X.Revenue.mean())\n",
    "#trainset.Metascore= X.Metascore.fillna(X.Revenue.min())\n",
    "features = ['Genre','Actors','Director']\n",
    "for f in features:\n",
    "    X_dummy = X[f].str.get_dummies(',').add_prefix(f + '.')\n",
    "    X = X.drop([f], axis = 1)\n",
    "    X = pd.concat((X, X_dummy), axis = 1)\n",
    "\n",
    "test = pd.read_csv(\"testing.csv\")\n",
    "T = test.drop(['Content'], axis=1)\n",
    "T = T['Vote'].fillna(0)\n",
    "vote = T.values\n",
    "vec = np.ones((1004,3026), dtype=np.uint8)\n",
    "vec = X.values\n",
    "\n",
    "sim = np.ones((1004,), dtype=np.complex_)\n",
    "for i in range (1,1004):\n",
    "    sim[i] = np.inner(vec[i],vote.transpose())\n",
    "\n",
    "similar = sim.argsort()[::-1][:30]\n",
    "for i in range (30):\n",
    "    print (trainset.iloc[similar[i],1])"
   ]
  },
  {
   "cell_type": "markdown",
   "metadata": {
    "_uuid": "ae2bf369c1337186749cbe39dec03aff72b0757f"
   },
   "source": [
    "And this is my favorite list based on content! and I think it is right :D But it seems that there are some problems! because the **genre** list is less than **actors**(or directors). I voted to almost all of the genres but most of the actors and directors are without vote. So this list **is more genre based**, for example I like **Keanu Reeves** and I voted to him but there were not any movie of him in this list (maybe because he has not played in my favorite genre ;D ) for solving this problem we can give higher vote to actors (if actors are more important or equal to genre) or normalize the vector of our tastes by these three concepts."
   ]
  },
  {
   "cell_type": "markdown",
   "metadata": {
    "_uuid": "19fae8ce5773e804c4d7c00f5036ebcd063bfc7c"
   },
   "source": [
    "Now I define **another recommendation based on a text analysis** which uses \"[Gestalt Pattern Matching](http://collaboration.cmc.ec.gc.ca/science/rpn/biblio/ddj/Website/articles/DDJ/1988/8807/8807c/8807c.htm). To find most similar movies by their **description**. here is the code:"
   ]
  },
  {
   "cell_type": "code",
   "execution_count": 40,
   "metadata": {
    "_uuid": "c59e218432cd8092e6f0323cba3c539a42bdf02a"
   },
   "outputs": [
    {
     "name": "stdout",
     "output_type": "stream",
     "text": [
      "your input movie is: Kung Fu Panda\n",
      "My suggestion for you is: X-Men: Days of Future Past\n"
     ]
    }
   ],
   "source": [
    "import re\n",
    "import difflib\n",
    "import pandas as pd\n",
    "import numpy as np\n",
    "import math\n",
    "trainset = pd.read_csv(\"IMDBMovieData.csv\", encoding='latin-1')\n",
    "s1 = trainset.iloc[858,3]\n",
    "s1w = re.findall('\\w+', s1.lower())\n",
    "sim = np.ones((1004,), dtype=np.float)\n",
    "for i in range (1,1004):\n",
    "    if i != 858:\n",
    "        s2 = trainset.iloc[i,3]\n",
    "        if type(s2) == str :\n",
    "            s2w = re.findall('\\w+', s2.lower())\n",
    "            common = set(s1w).intersection(s2w) \n",
    "            common_ratio = 100*(difflib.SequenceMatcher(None, s1w, s2w).ratio())\n",
    "            sim[i] = common_ratio    \n",
    "M = np.argmax(sim)\n",
    "print (\"your input movie is:\",trainset.iloc[858,1])\n",
    "print (\"My suggestion for you is:\",trainset.iloc[M,1])"
   ]
  },
  {
   "cell_type": "markdown",
   "metadata": {
    "_uuid": "673a5b093f692e950d07e6ada2c8439f8e1b5b67"
   },
   "source": [
    "As you see I gave \"*Harry Potter and the Deathly Hallows: Part 1*\" movie and most similar movie by description analysis algorithm was the \"*Harry Potter and the Deathly Hallows: Part 2*\" and it seems to be right!:D"
   ]
  },
  {
   "cell_type": "code",
   "execution_count": null,
   "metadata": {},
   "outputs": [],
   "source": []
  }
 ],
 "metadata": {
  "kernelspec": {
   "display_name": "Python 3",
   "language": "python",
   "name": "python3"
  },
  "language_info": {
   "codemirror_mode": {
    "name": "ipython",
    "version": 3
   },
   "file_extension": ".py",
   "mimetype": "text/x-python",
   "name": "python",
   "nbconvert_exporter": "python",
   "pygments_lexer": "ipython3",
   "version": "3.7.0"
  }
 },
 "nbformat": 4,
 "nbformat_minor": 1
}
